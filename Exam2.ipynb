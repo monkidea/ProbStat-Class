{
 "cells": [
  {
   "cell_type": "markdown",
   "metadata": {},
   "source": [
    "## SECOND PARTIAL EXAM"
   ]
  },
  {
   "cell_type": "markdown",
   "metadata": {},
   "source": [
    "Develop a program to analyze data in real time. The program must update its prediction every time a new value is introduced."
   ]
  },
  {
   "cell_type": "code",
   "execution_count": 4,
   "metadata": {},
   "outputs": [
    {
     "name": "stdout",
     "output_type": "stream",
     "text": [
      "Introduce x value: 0\n",
      "Intorduce y value: 20\n",
      "Introduce x value: 30\n",
      "Intorduce y value: 20.2\n",
      "\n",
      "Write 0 to end process\n",
      "Introduce x value: 60\n",
      "Intorduce y value: 20.2\n",
      "\n",
      "Time to reach 35°C: 1.0 hours, 14.0 minutes, 50.000000000224645 seconds\n",
      "\n",
      "Write 0 to end process\n",
      "Introduce x value: 90\n",
      "Intorduce y value: 20.3\n",
      "\n",
      "Time to reach 35°C: 1.0 hours, 23.0 minutes, 6.66666666666697 seconds\n",
      "\n",
      "Write 0 to end process\n",
      "Introduce x value: 120\n",
      "Intorduce y value: 20.4\n",
      "\n",
      "Time to reach 35°C: 1.0 hours, 23.0 minutes, 6.66666666666697 seconds\n",
      "\n",
      "Write 0 to end process\n",
      "Introduce x value: 0\n",
      "\n",
      "Time to reach 35°C: 1.0 hours, 23.0 minutes, 6.66666666666697 seconds\n"
     ]
    }
   ],
   "source": [
    "i = 0\n",
    "n = 0\n",
    "sum_x = 0\n",
    "sum_y = 0\n",
    "sum_xy = 0\n",
    "sum_x2 = 0\n",
    "\n",
    "for k in range(0,2):\n",
    "    x = float(input(\"Introduce x value: \"))\n",
    "    y = float(input(\"Intorduce y value: \"))\n",
    "    sum_x += x\n",
    "    sum_y += y\n",
    "    sum_xy += x*y\n",
    "    sum_x2 += (x**2)\n",
    "    n += 1\n",
    "    \n",
    "while i < 1:\n",
    "    \n",
    "    print(\"\\nWrite 0 to stop process\")\n",
    "    x = float(input(\"Introduce x value: \"))\n",
    "\n",
    "    if x != 0:\n",
    "        y = float(input(\"Intorduce y value: \"))\n",
    "        sum_x += x\n",
    "        sum_y += y\n",
    "        sum_xy += x*y\n",
    "        sum_x2 += (x**2)\n",
    "        n += 1\n",
    "        \n",
    "    else:\n",
    "        if n*sum_x2 == sum_x**2:\n",
    "            print(\"\\nYou need more values\")\n",
    "        else:\n",
    "            i += 1\n",
    "    \n",
    "    if n*sum_x2 != sum_x**2:\n",
    "        b1 = (n*sum_xy - sum_x*sum_y)/(n*sum_x2 - sum_x**2)\n",
    "        b0 = (sum_y - b1*sum_x)/n\n",
    "        time = (35 - b0) / b1\n",
    "        hours = time // 3600\n",
    "        minutes = (time % 3600) // 60\n",
    "        seconds = (time % 3600) % 60\n",
    "        \n",
    "        print(f\"\\nTime to reach 35°C: {hours} hours, {minutes} minutes, {seconds} seconds\")\n"
   ]
  },
  {
   "cell_type": "code",
   "execution_count": null,
   "metadata": {},
   "outputs": [],
   "source": []
  }
 ],
 "metadata": {
  "kernelspec": {
   "display_name": "Python 3",
   "language": "python",
   "name": "python3"
  },
  "language_info": {
   "codemirror_mode": {
    "name": "ipython",
    "version": 3
   },
   "file_extension": ".py",
   "mimetype": "text/x-python",
   "name": "python",
   "nbconvert_exporter": "python",
   "pygments_lexer": "ipython3",
   "version": "3.7.4"
  }
 },
 "nbformat": 4,
 "nbformat_minor": 2
}
