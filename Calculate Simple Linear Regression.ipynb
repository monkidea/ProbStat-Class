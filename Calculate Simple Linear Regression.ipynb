{
 "cells": [
  {
   "cell_type": "markdown",
   "metadata": {},
   "source": [
    "## CALCULATE LINEAR REGRESSION\n"
   ]
  },
  {
   "cell_type": "code",
   "execution_count": 1,
   "metadata": {},
   "outputs": [
    {
     "name": "stdout",
     "output_type": "stream",
     "text": [
      "How many values are you going to use? 5\n",
      "Introduce x1: 1\n",
      "Introduce y1: 10\n",
      "Introduce x2: 2\n",
      "Introduce y2: 11\n",
      "Introduce x3: 3\n",
      "Introduce y3: 13\n",
      "Introduce x4: 4\n",
      "Introduce y4: 13\n",
      "Introduce x5: 5\n",
      "Introduce y5: 14\n",
      "\n",
      "Linear Regression: \n",
      "\n",
      "y = 9.2+1.0x\n"
     ]
    }
   ],
   "source": [
    "n = 0\n",
    "sum_x = 0\n",
    "sum_y = 0\n",
    "sum_xy = 0\n",
    "sum_x2 = 0\n",
    "\n",
    "for i in range(0,1000000):\n",
    "    x = int(input(f\"Introduce x{i+1}: \"))\n",
    "    y = int(input(f\"Introduce y{i+1}: \"))\n",
    "    sum_x += x\n",
    "    sum_y += y\n",
    "    sum_xy += x*y\n",
    "    sum_x2 += (x**2)\n",
    "    n += 1\n",
    "b1 = (n*sum_xy - sum_x*sum_y)/(n*sum_x2 - sum_x**2)\n",
    "b0 = (sum_y - b1*sum_x)/n\n",
    "time = (35-b0)/b1\n",
    "    print(f\"\\nTime: \\n\\n{time}seconds\")\n"
   ]
  },
  {
   "cell_type": "code",
   "execution_count": null,
   "metadata": {},
   "outputs": [],
   "source": []
  }
 ],
 "metadata": {
  "kernelspec": {
   "display_name": "Python 3",
   "language": "python",
   "name": "python3"
  },
  "language_info": {
   "codemirror_mode": {
    "name": "ipython",
    "version": 3
   },
   "file_extension": ".py",
   "mimetype": "text/x-python",
   "name": "python",
   "nbconvert_exporter": "python",
   "pygments_lexer": "ipython3",
   "version": "3.7.4"
  }
 },
 "nbformat": 4,
 "nbformat_minor": 2
}
